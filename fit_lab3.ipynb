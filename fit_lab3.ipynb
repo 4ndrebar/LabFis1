{
  "nbformat": 4,
  "nbformat_minor": 0,
  "metadata": {
    "colab": {
      "name": "fit_lab3.ipynb",
      "provenance": [],
      "collapsed_sections": [
        "1HxbkCT-sB6X",
        "s8j77DXY1S9w",
        "kST27QkL1WLg",
        "36iS5IN41bnI",
        "bsSThMsn3jVx",
        "it7uHH0o3jV7"
      ],
      "include_colab_link": true
    },
    "kernelspec": {
      "name": "python385jvsc74a57bd0f14e906f6c55070a077a89cc5717e48c6e6b165b8f84516754651fa338ccc864",
      "display_name": "Python 3.8.5 64-bit ('base': conda)"
    },
    "language_info": {
      "name": "python",
      "version": "3.8.5"
    },
    "metadata": {
      "interpreter": {
        "hash": "f14e906f6c55070a077a89cc5717e48c6e6b165b8f84516754651fa338ccc864"
      }
    }
  },
  "cells": [
    {
      "cell_type": "markdown",
      "metadata": {
        "id": "view-in-github",
        "colab_type": "text"
      },
      "source": [
        "<a href=\"https://colab.research.google.com/github/4ndrebar/LabFis1/blob/main/fit_lab3.ipynb\" target=\"_parent\"><img src=\"https://colab.research.google.com/assets/colab-badge.svg\" alt=\"Open In Colab\"/></a>"
      ]
    },
    {
      "cell_type": "markdown",
      "metadata": {
        "id": "UT-hiqS67TOs"
      },
      "source": [
        "# Istruzioni\n",
        "In questo notebook troverete le funzioni necessarie per tracciare i grafici ed effettuare i fit delle acquisizioni dati del vostro esperimento. Il file è in sola lettura quindi per utilizzarlo dovrete **salvarne una copia sul vostro drive**. <br> Siete vivamente invitati a mettere le mani sul codice e personalizzarlo a vostro piacimento, ma meglio farlo in un secondo momento: **finchè siete in laboratorio approfittatene per concentrarvi sulla raccolta dati e <ins>sul corretto svolgimento dell'esperimento!</ins>**\n",
        "\n",
        "* Importare le librerie necessarie\n",
        "* Per ogni fit  da effettuare caricare il file di dati corrispondente sulla macchina virtuale di Colab tramite l'apposita cella di codice che contiene la funzione `files.upload()`\n",
        "* Quando necessario effettuare più fit ricopiare la sezione di celle che importa i dati e chiama la funzione di fit (naturalmente si potrebbe fare un loop... in un secondo momento)\n",
        "* Prima di caricare files con lo stesso nome eliminare quelli preesistenti per evitare conflitti.\n"
      ]
    },
    {
      "cell_type": "code",
      "metadata": {
        "id": "epkaQo9hUDSJ"
      },
      "source": [
        "import numpy as np  \n",
        "from matplotlib import pyplot as plt \n",
        "from scipy.optimize import curve_fit \n",
        "from scipy import odr\n",
        "from ipywidgets import interact, interact_manual, FloatSlider, Checkbox, BoundedFloatText\n",
        "from google.colab import files\n"
      ],
      "execution_count": null,
      "outputs": []
    },
    {
      "cell_type": "markdown",
      "metadata": {
        "id": "uKdQ1eri1Ca-"
      },
      "source": [
        "## Esperimento del pendolo"
      ]
    },
    {
      "cell_type": "markdown",
      "metadata": {
        "id": "s8j77DXY1S9w"
      },
      "source": [
        "### Fit sinusoidale"
      ]
    },
    {
      "cell_type": "markdown",
      "metadata": {
        "id": "1HxbkCT-sB6X"
      },
      "source": [
        "#### Importa i dati"
      ]
    },
    {
      "cell_type": "code",
      "metadata": {
        "id": "0MRZwcJs80cO"
      },
      "source": [
        "filename = list(files.upload().keys())[0] #chiede di caricare il file e ne estrae il nome"
      ],
      "execution_count": null,
      "outputs": []
    },
    {
      "cell_type": "code",
      "metadata": {
        "id": "70TuHZM2sK9n"
      },
      "source": [
        "dati = np.loadtxt(filename, dtype=np.str, delimiter=\"\\t\", skiprows=2) #legge il file formattato con tabulazioni e scarta le prime due righe di header\n",
        "dati = np.char.replace(dati, ',', '.') #rimpiazza il separatore decimale\n",
        "dati = dati[:,0:2]  #seleziona solo le colonne posizione e tempo\n",
        "#dati[dati == ''] = 0 #rimpiazza le stringhe vuote con 0; le trovo alla fine del file quando salvo più misure nello stesso file.\n",
        "dati = dati.astype(np.float)   #riconverte le entrate a float\n",
        "\n",
        "t=dati[:,0]\n",
        "y=dati[:,1]\n",
        "\n",
        "plt.figure()    #visualizza i dati importati\n",
        "_=plt.plot(t, y, marker='o')"
      ],
      "execution_count": null,
      "outputs": []
    },
    {
      "cell_type": "markdown",
      "metadata": {
        "id": "AcR6SzZz80cP"
      },
      "source": [
        "#### Fit"
      ]
    },
    {
      "cell_type": "code",
      "metadata": {
        "id": "WxFVj99iUM3z"
      },
      "source": [
        "#Definizione della funzione di fit \n",
        "def damped_sine(t, A, omega, phi, gamma, y0): \n",
        "  return A*np.exp(-gamma*t)*np.sin(omega*t+phi)+y0"
      ],
      "execution_count": null,
      "outputs": []
    },
    {
      "cell_type": "code",
      "metadata": {
        "id": "wdVmRSw-yqCi"
      },
      "source": [
        "# Fitting routine\n",
        "# definisce la funzione che stampa il grafico e esegue il fit dei dati. È sufficiente eseguirla una volta per salvare la funzione in memoria.\n",
        "\n",
        " \n",
        "def fitplot_sin(A, omega, y0, phi, gamma, print_output=True, plot_guess=False):\n",
        " \n",
        "  guess = np.array([A,omega,phi,gamma,y0]) #array delle stime iniziali\n",
        "  bounds = ([0,0,-np.pi,0,0], [10., 10, np.pi,1,2]) \n",
        " \n",
        "  global popt, pcov    #i risultati del fit sono variabili globali \n",
        " \n",
        "  plt.figure(figsize=(15, 10))\n",
        "  popt, pcov = curve_fit(damped_sine, t, y, p0=guess, bounds=bounds)\n",
        "  # calcolo il coefficiente R2 per valutare la bontà del fit\n",
        "  residuals = y- damped_sine(t,popt[0],popt[1],popt[2],popt[3],popt[4])\n",
        "  ss_res = np.sum(residuals**2)\n",
        "  ss_tot = np.sum((y-np.mean(y))**2)\n",
        "  r_squared = 1 - (ss_res / ss_tot)\n",
        "\n",
        "  if plot_guess:\n",
        "    plt.plot(t, damped_sine(t, guess[0], guess[1], guess[2],guess[3],guess[4]),'--', color=[0.3,0.7,0], label=\"Guess\", linewidth=2) # plot guess\n",
        "\n",
        "                                                                                          \n",
        "  #plot dei risultati\n",
        "  \n",
        "  plt.scatter(t,y,s=20,label=\"Exp.\")     \n",
        "  plt.plot(t,damped_sine(t,popt[0],popt[1],popt[2],popt[3],popt[4]),color=[1,0,0],label=\"Fit ($R^2=${:.4f})\".format(r_squared),linewidth=2)\n",
        "  plt.xlabel(\"tempo (s)\")\n",
        "  plt.ylabel(\"distanza (m)\")\n",
        "  plt.grid(which='both')\n",
        "  plt.legend()\n",
        "  plt.show()\n",
        "  \n",
        "  \n",
        "  if print_output:\n",
        "    label = [\"A\", \"omega\", \"phi\",\"gamma\"]\n",
        "    for l, v, e in zip(label, popt, np.sqrt(np.diag(pcov))) :\n",
        "      print(\"%10s = %9.6f +- %7.6f\" % (l ,v, e))\n",
        "    print(\"R-squared = \"+str(r_squared))\n",
        "\n"
      ],
      "execution_count": null,
      "outputs": []
    },
    {
      "cell_type": "markdown",
      "metadata": {
        "id": "Xbc6-zIh6CVV"
      },
      "source": [
        "La seguente cella chiama al funzione di fit e visualizza il risultato finale dell'algoritmo insieme con la funzione di prova iniziale. Inizializate correttamente i parametri stimandoli dal grafico quindi cliccate sul pulsante **Fit**. "
      ]
    },
    {
      "cell_type": "code",
      "metadata": {
        "id": "biK_12qyyvxi"
      },
      "source": [
        " interact_manual.opts[\"manual_name\"]= 'Fit'\n",
        "_=interact_manual(fitplot_sin, A=BoundedFloatText(min=0, max=10, step=1e-3,description='A'),\n",
        "                  omega=BoundedFloatText(min=0, max=10, step=1e-3, description='omega'),\n",
        "                  gamma=BoundedFloatText(min=0, max=1, step=1e-3, value=0),\n",
        "                  y0=BoundedFloatText(min=0, max=2, step=1e-3),\n",
        "                  phi=FloatSlider(min=-np.pi, max=np.pi, step=1e-1, value=0),\n",
        "                  print_output=Checkbox(value=True, description='Visualizza parametri fit'),\n",
        "                  plot_guess=Checkbox(value=True ,description='Visualizza funzione di prova'))"
      ],
      "execution_count": null,
      "outputs": []
    },
    {
      "cell_type": "markdown",
      "metadata": {
        "id": "bsSThMsn3jVx"
      },
      "source": [
        "### Fit della legge $T(\\theta)$"
      ]
    },
    {
      "cell_type": "markdown",
      "metadata": {
        "id": "nD4jpSpN3jV6"
      },
      "source": [
        "#### Importa i dati"
      ]
    },
    {
      "cell_type": "markdown",
      "metadata": {
        "id": "nSaugy0KCmlM"
      },
      "source": [
        "La lettura del file dati viene effettuata assumendo che siano formattati in un file di testo, con tabulazioni come separatore, con le colonne corrispondenti a \n",
        "\n",
        " $$\\theta\\quad|\\quad  T \\quad|\\quad\\sigma(\\theta)\\quad|\\quad\\sigma(T)$$\n",
        "\n",
        "Non caricare files con lo stesso nome, eliminare prima quelli preesistenti per evitare conflitti. <br> In caso di errori di importazione può essere utile visualizzare i caratteri nascosti del file: per farlo eseguire in una cella il comando di bash `!cat -T nome_del_file.txt`"
      ]
    },
    {
      "cell_type": "code",
      "metadata": {
        "id": "_l0SoBh280cR"
      },
      "source": [
        "dati_periodo_ampiezza = list(files.upload().keys())[0] #chiede di caricare il file e ne estrae il nome"
      ],
      "execution_count": null,
      "outputs": []
    },
    {
      "cell_type": "code",
      "metadata": {
        "id": "GkqWWg2P3jV6"
      },
      "source": [
        "dati=np.loadtxt(dati_periodo_ampiezza, dtype=np.float, delimiter=\"\\t\", skiprows=0)\n",
        "\n",
        "theta=dati[:,0]\n",
        "T=dati[:,1]\n",
        "theta_err=dati[:,2]\n",
        "T_err=dati[:,3]\n",
        "\n",
        "plt.figure()\n",
        "plt.grid()\n",
        "_=plt.errorbar(theta,T,yerr=T_err, xerr=theta_err, capsize=5,fmt='o')"
      ],
      "execution_count": null,
      "outputs": []
    },
    {
      "cell_type": "markdown",
      "metadata": {
        "id": "it7uHH0o3jV7"
      },
      "source": [
        "#### Fit"
      ]
    },
    {
      "cell_type": "code",
      "metadata": {
        "id": "qiLzbA5c3jV7"
      },
      "source": [
        "#Definizione funzione di fit \n",
        "def sin2(T0,theta): \n",
        "  return T0*(1+0.25*(np.sin(theta/2))**2)"
      ],
      "execution_count": null,
      "outputs": []
    },
    {
      "cell_type": "code",
      "metadata": {
        "id": "Zn7Tkf6t3jV7"
      },
      "source": [
        "# Fitting routine\n",
        "# definisce la funzione che stampa il grafico e esegue il fit dei dati.  È sufficiente eseguirla una volta per salvare la funzione in memoria.\n",
        "\n",
        " \n",
        "def fitplot_period(T0, print_output=True, plot_guess=True):\n",
        "\n",
        "  sin2_model = odr.Model(sin2)\n",
        "  fit_data = odr.RealData(theta, T, sx=theta_err, sy=T_err)\n",
        "  beta0 = np.array([T0]) #array of initial guesses\n",
        "  \n",
        "  fit = odr.ODR(fit_data, sin2_model, beta0=beta0)\n",
        "  global out\n",
        "  out = fit.run()\n",
        "    \n",
        "  # calcolo il coefficiente R2 per valutare la bontà del fit\n",
        "  residuals = T- sin2(out.beta,theta)\n",
        "  ss_res = np.sum(residuals**2)\n",
        "  ss_tot = np.sum((y-np.mean(y))**2)\n",
        "  r_squared = 1 - (ss_res / ss_tot)\n",
        "  \n",
        "  sample_theta = np.linspace(0,np.amax(theta),1000)\n",
        "  plt.show()\n",
        " \n",
        "  plt.figure(figsize = (9, 6))\n",
        " \n",
        "  \n",
        "\n",
        "  if plot_guess:\n",
        "    plt.plot(sample_theta, sin2(beta0, sample_theta),'--', color=[0.3,0.7,0], label = \"Guess\", linewidth=2) # plot guess\n",
        "\n",
        "  #plotting fit result\n",
        "  \n",
        "  plt.errorbar(theta, T,xerr=theta_err ,yerr=T_err ,linestyle='None', capsize=5, marker='o')\n",
        "  plt.plot(sample_theta, sin2(out.beta,sample_theta), color=[1,0,0], label=\"Fit ($R^2=${:.4f})\".format(r_squared), linewidth=3)\n",
        "  plt.xlabel(r\"$\\theta$ (rad)\")\n",
        "  plt.ylabel(\"Periodo T (s)\")\n",
        "  plt.grid(which='both')\n",
        "  plt.legend()\n",
        "  plt.show()\n",
        "  \n",
        "  \n",
        "  if print_output:\n",
        "    print(\"T0 = {:10.4f} +/- {:2.4f}\".format(out.beta[0],out.sd_beta[0]))\n",
        "  print(\"R-squared = \"+str(r_squared))\n",
        "\n"
      ],
      "execution_count": null,
      "outputs": []
    },
    {
      "cell_type": "markdown",
      "metadata": {
        "id": "_1qUldaCUs-I"
      },
      "source": [
        "La seguente cella chiama al funzione di fit e visualizza il risultato finale dell'algoritmo insieme con la funzione di prova iniziale. Inizializate correttamente i parametri stimandoli dal grafico quindi cliccate sul pulsante **Fit**. "
      ]
    },
    {
      "cell_type": "code",
      "metadata": {
        "id": "M8QaB62i3jV7"
      },
      "source": [
        "interact_manual.opts[\"manual_name\"]= 'Fit'\n",
        "_=interact_manual(fitplot_period, T0=BoundedFloatText(min=0, max=5, step=1e-2,description='T'),\n",
        "                  print_output=Checkbox(value=True, description='Visualizza parametri fit'),\n",
        "                  plot_guess=Checkbox(value=True ,description='Visualizza funzione di prova'))"
      ],
      "execution_count": null,
      "outputs": []
    },
    {
      "cell_type": "markdown",
      "metadata": {
        "id": "y3UP2NA8VwLh"
      },
      "source": [
        "## Esperimento legge di Hooke"
      ]
    },
    {
      "cell_type": "markdown",
      "metadata": {
        "id": "pWIBv-fMV6iS"
      },
      "source": [
        "### Fit lineare"
      ]
    },
    {
      "cell_type": "markdown",
      "metadata": {
        "id": "rs-cczTjW0x-"
      },
      "source": [
        "#### Importa i dati"
      ]
    },
    {
      "cell_type": "markdown",
      "metadata": {
        "id": "DFU2fzn1W0x_"
      },
      "source": [
        "La lettura del file dati viene effettuata assumendo che siano formattati in un file di testo, con tabulazioni come separatore, con le colonne corrispondenti a \n",
        "\n",
        " $$\\text{Peso}\\quad|\\quad\\Delta y \\quad|\\quad\\sigma(\\text{Peso})\\quad|\\quad\\sigma(\\Delta y)$$\n",
        "\n",
        "Non caricare files con lo stesso nome, eliminare prima quelli preesistenti per evitare conflitti. In caso di errori di importazione può essere utile visualizzare i caratteri nascosti del file: per farlo eseguire in una cella il comando di bash `!cat -T nome_del_file.txt`"
      ]
    },
    {
      "cell_type": "code",
      "metadata": {
        "id": "xC-ougxHW0x_"
      },
      "source": [
        "dati_m_elongazione = list(files.upload().keys())[0] #chiede di caricare il file e ne estrae il nome"
      ],
      "execution_count": null,
      "outputs": []
    },
    {
      "cell_type": "code",
      "metadata": {
        "id": "q4BLYSCcW0yA"
      },
      "source": [
        "dati = np.loadtxt(dati_m_elongazione, dtype=np.float, delimiter=\"\\t\", skiprows=0)\n",
        "\n",
        "Peso = dati[:,0]\n",
        "x = dati[:,1]\n",
        "Peso_err = dati[:,2]\n",
        "x_err = dati[:,3]\n",
        "\n",
        "plt.figure()\n",
        "plt.grid()\n",
        "_ = plt.errorbar(x,Peso,yerr=Peso_err, xerr=x_err, capsize=5,fmt='o')"
      ],
      "execution_count": null,
      "outputs": []
    },
    {
      "cell_type": "code",
      "metadata": {
        "id": "IR_G7Mb2W0yA"
      },
      "source": [
        "#Definizione funzione di fit \n",
        "def retta(p,elongazione): \n",
        "  return p[0]+p[1]*elongazione"
      ],
      "execution_count": null,
      "outputs": []
    },
    {
      "cell_type": "code",
      "metadata": {
        "id": "XI75S-_PW0yB"
      },
      "source": [
        "# Fitting routine\n",
        "# definisce la funzione che stampa il grafico e esegue il fit dei dati.  È sufficiente eseguirla una volta per salvare la funzione in memoria.\n",
        "\n",
        " \n",
        "def fitplot_retta(y0, k, print_output=True, plot_guess=True):\n",
        "\n",
        "  retta_model = odr.Model(retta)\n",
        "  fit_data = odr.RealData(x, Peso, sx=x_err, sy=Peso_err)\n",
        "  beta0 = np.array([y0,k]) #array of initial guesses\n",
        "  \n",
        "  fit = odr.ODR(fit_data, retta_model, beta0=beta0)\n",
        "  global out\n",
        "  out = fit.run()\n",
        "  \n",
        "  #calcolo il coefficiente R2 per valutare la bontà del fit\n",
        "  residuals = Peso- retta(out.beta, x)\n",
        "  ss_res = np.sum(residuals**2)\n",
        "  ss_tot = np.sum((Peso-np.mean(Peso))**2)\n",
        "  r_squared = 1 - (ss_res / ss_tot)\n",
        "  \n",
        "  sample_x = np.linspace(0,np.amax(x),1000)\n",
        "  plt.show()\n",
        " \n",
        "  plt.figure(figsize=(9, 6))\n",
        " \n",
        "  \n",
        "\n",
        "  if plot_guess:\n",
        "    plt.plot(sample_x, retta(beta0,sample_x),'--', color=[0.3,0.7,0], label=\"Guess\", linewidth=2) # plot guess\n",
        "\n",
        "  #plotting fit result\n",
        "  \n",
        "  plt.errorbar(x, Peso, xerr=x_err, yerr=Peso_err, linestyle='None', capsize=5, marker='o')\n",
        "  plt.plot(sample_x, retta(out.beta, sample_x), color=[1,0,0], label=\"Fit ($R^2=${:.4f})\".format(r_squared), linewidth=3)\n",
        "  plt.xlabel(\"Elongazione (m)\")\n",
        "  plt.ylabel(\"Peso (N)\")\n",
        "  plt.grid(which='both')\n",
        "  plt.legend()\n",
        "  plt.show()\n",
        "  \n",
        "  \n",
        "  if print_output:\n",
        "    print(\"y_0 = {:10.4f} +/- {:2.4f}\".format(out.beta[0],out.sd_beta[0]))\n",
        "    print(\"k = {:10.4f} +/- {:2.4f}\".format(out.beta[1],out.sd_beta[1]))\n",
        "    print(\"R-squared = \"+str(r_squared))\n",
        "\n",
        " \n",
        " \n"
      ],
      "execution_count": null,
      "outputs": []
    },
    {
      "cell_type": "markdown",
      "metadata": {
        "id": "SmK-ukr1LGQl"
      },
      "source": [
        "La seguente cella chiama al funzione di fit e visualizza il risultato finale dell'algoritmo insieme con la funzione di prova iniziale. Inizializate correttamente i parametri stimandoli dal grafico quindi cliccate sul pulsante **Fit**. "
      ]
    },
    {
      "cell_type": "code",
      "metadata": {
        "id": "0z2fS8G-W0yB"
      },
      "source": [
        "interact_manual.opts[\"manual_name\"]= 'Fit'\n",
        "_=interact_manual(fitplot_retta, y0=BoundedFloatText(min=0, max=5, step=1e-3,description='P_0'),\n",
        "                  k=BoundedFloatText(min=0, max=25, step=1e-3,description='k'),\n",
        "                  print_output=Checkbox(value=True, description='Visualizza parametri fit'),\n",
        "                  plot_guess=Checkbox(value=True ,description='Visualizza funzione di prova'))"
      ],
      "execution_count": null,
      "outputs": []
    },
    {
      "cell_type": "markdown",
      "metadata": {
        "id": "QgRRGlI2Wa9i"
      },
      "source": [
        "### Fit sinusoidale"
      ]
    },
    {
      "cell_type": "markdown",
      "metadata": {
        "id": "PGT-c_P9Wkj0"
      },
      "source": [
        "#### Importa i dati"
      ]
    },
    {
      "cell_type": "code",
      "metadata": {
        "id": "Dz4-oUt9Wkj1"
      },
      "source": [
        "filename = list(files.upload().keys())[0] #chiede di caricare il file e ne estrae il nome"
      ],
      "execution_count": null,
      "outputs": []
    },
    {
      "cell_type": "code",
      "metadata": {
        "id": "GRalW-hEWkj2"
      },
      "source": [
        "dati = np.loadtxt(filename, dtype=np.str, delimiter=\"\\t\", skiprows=2) #legge il file formattato con tabulazioni e scarta le prime due righe di header\n",
        "dati = np.char.replace(dati, ',', '.') #rimpiazza il separatore decimale\n",
        "dati = dati[:,0:2]  #seleziono solo le colonne posizione e tempo\n",
        "#dati[dati == ''] = 0 #rimpiazzo le stringhe vuote con 0; le trovo alla fine del file quando salvo più misure nello stesso file.\n",
        "dati = dati.astype(np.float)   #riconverte le entrate a float\n",
        "\n",
        "t = dati[:,0]\n",
        "y = dati[:,1]\n",
        "\n",
        "plt.figure()    #visualizzo i dati importati\n",
        "_ = plt.plot(t,y, marker='o')"
      ],
      "execution_count": null,
      "outputs": []
    },
    {
      "cell_type": "markdown",
      "metadata": {
        "id": "6mnd02KMWkj2"
      },
      "source": [
        "#### Fit"
      ]
    },
    {
      "cell_type": "code",
      "metadata": {
        "id": "V-8OSQnIWkj2"
      },
      "source": [
        "#Definizione della funzione di fit \n",
        "def damped_sine(t,A,omega,phi,gamma,y0): \n",
        "  return A*np.exp(-gamma*t)*np.sin(omega*t+phi)+y0"
      ],
      "execution_count": null,
      "outputs": []
    },
    {
      "cell_type": "code",
      "metadata": {
        "id": "ZpYXQ7TnWkj3"
      },
      "source": [
        "# Fitting routine\n",
        "# definisce la funzione che stampa il grafico e esegue il fit dei dati.  È sufficiente eseguirla una volta per salvare la funzione in memoria.\n",
        "\n",
        " \n",
        "def fitplot_sin(A, omega, y0, phi, gamma, print_output=True, plot_guess=False):\n",
        " \n",
        "  guess = np.array([A,omega,phi,gamma,y0]) #array delle stime iniziali\n",
        "  bounds = ([0,0,-np.pi,0,0], [10., 25, np.pi,1,10]) \n",
        " \n",
        "  global popt, pcov    #i risultati del fit sono variabili globali \n",
        " \n",
        "  plt.figure(figsize=(15, 10))\n",
        "  popt, pcov = curve_fit(damped_sine, t, y, p0=guess, bounds=bounds)\n",
        "\n",
        "# calcolo il coefficiente R2 per valutare la bontà del fit\n",
        "  residuals = y- damped_sine(t,popt[0],popt[1],popt[2],popt[3],popt[4])\n",
        "  ss_res = np.sum(residuals**2)\n",
        "  ss_tot = np.sum((y-np.mean(y))**2)\n",
        "  r_squared = 1 - (ss_res / ss_tot) \n",
        "\n",
        "  if plot_guess:\n",
        "    plt.plot(t, damped_sine(t, guess[0], guess[1], guess[2],guess[3],guess[4]),'--', color=[0.3,0.7,0], label=\"Guess\", linewidth=2) # plot guess\n",
        "\n",
        "                                                                                          \n",
        "  #plot dei risultati\n",
        "  \n",
        "  plt.scatter(t,y,s=20,label=\"Exp.\")     \n",
        "  plt.plot(t,damped_sine(t,popt[0],popt[1],popt[2],popt[3],popt[4]),color=[1,0,0],label=\"Fit ($R^2=${:.4f})\".format(r_squared),linewidth=2)\n",
        "  plt.xlabel(\"tempo (s)\")\n",
        "  plt.ylabel(\"distanza (m)\")\n",
        "  plt.grid(which='both')\n",
        "  plt.legend()\n",
        "  plt.show()\n",
        "  \n",
        "  \n",
        "  if print_output:\n",
        "    label = [\"A\", \"omega\", \"phi\",\"gamma\"]\n",
        "    for l, v, e in zip(label, popt, np.sqrt(np.diag(pcov))) :\n",
        "      print(\"%10s = %9.6f +- %7.6f\" % (l ,v, e))\n",
        "    print(\"R-squared = \"+str(r_squared))\n",
        "\n"
      ],
      "execution_count": null,
      "outputs": []
    },
    {
      "cell_type": "markdown",
      "metadata": {
        "id": "1URVeH9GUwWW"
      },
      "source": [
        "La seguente cella chiama al funzione di fit e visualizza il risultato finale dell'algoritmo insieme con la funzione di prova iniziale. Inizializate correttamente i parametri stimandoli dal grafico quindi cliccate sul pulsante **Fit**. "
      ]
    },
    {
      "cell_type": "code",
      "metadata": {
        "id": "Jwx6tXzNWkj3"
      },
      "source": [
        " interact_manual.opts[\"manual_name\"]= 'Fit'\n",
        "_=interact_manual(fitplot_sin, A=BoundedFloatText(min=0.1, max=5, step=1e-2,description='A'),\n",
        "                  omega=BoundedFloatText(min=0.1, max=20, step=1e-2, description='omega'),\n",
        "                  gamma=BoundedFloatText(min=0, max=0.5, step=1e-2, value=0),\n",
        "                  y0=BoundedFloatText(min=0.1, max=10, step=1e-2),\n",
        "                  phi=FloatSlider(min=-np.pi, max=np.pi, step=1e-1, value=0),\n",
        "                  print_output=Checkbox(value=True, description='Visualizza parametri fit'),\n",
        "                  plot_guess=Checkbox(value=True ,description='Visualizza funzione di prova'))"
      ],
      "execution_count": null,
      "outputs": []
    },
    {
      "cell_type": "code",
      "metadata": {
        "id": "G7Dlo1uwQY4q"
      },
      "source": [
        ""
      ],
      "execution_count": null,
      "outputs": []
    }
  ]
}